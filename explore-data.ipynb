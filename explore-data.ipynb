{
 "cells": [
  {
   "cell_type": "code",
   "execution_count": 35,
   "metadata": {
    "collapsed": true
   },
   "outputs": [],
   "source": [
    "import pandas as pd\n",
    "import plotly.plotly as py\n",
    "# from plotly.graph_objs import *\n",
    "# from plotly import tools"
   ]
  },
  {
   "cell_type": "code",
   "execution_count": 38,
   "metadata": {
    "collapsed": true
   },
   "outputs": [],
   "source": [
    "py.sign_in('sagarwal88', 'T9AAUinGOXx4FkrvcHi2')"
   ]
  },
  {
   "cell_type": "code",
   "execution_count": 25,
   "metadata": {
    "collapsed": true
   },
   "outputs": [],
   "source": [
    "raw_df = pd.read_csv('data.csv')"
   ]
  },
  {
   "cell_type": "code",
   "execution_count": 26,
   "metadata": {
    "collapsed": false
   },
   "outputs": [],
   "source": [
    "df = pd.DataFrame(data={'name':raw_df['Name in English'], 'countries':raw_df['Countries'], 'degree':raw_df['Degree of endangerment'], 'num_speakers':raw_df['Number of speakers'], 'lat':raw_df['Latitude'], 'long':raw_df['Longitude']}, columns=['name', 'countries', 'degree', 'num_speakers', 'lat', 'long'])"
   ]
  },
  {
   "cell_type": "code",
   "execution_count": 148,
   "metadata": {
    "collapsed": false
   },
   "outputs": [
    {
     "name": "stderr",
     "output_type": "stream",
     "text": [
      "/usr/lib/python3/dist-packages/pandas/core/frame.py:1997: UserWarning:\n",
      "\n",
      "Boolean Series key will be reindexed to match DataFrame index.\n",
      "\n"
     ]
    },
    {
     "data": {
      "text/html": [
       "<div>\n",
       "<table border=\"1\" class=\"dataframe\">\n",
       "  <thead>\n",
       "    <tr style=\"text-align: right;\">\n",
       "      <th></th>\n",
       "      <th>name</th>\n",
       "      <th>countries</th>\n",
       "      <th>degree</th>\n",
       "      <th>num_speakers</th>\n",
       "      <th>lat</th>\n",
       "      <th>long</th>\n",
       "    </tr>\n",
       "  </thead>\n",
       "  <tbody>\n",
       "    <tr>\n",
       "      <th>2262</th>\n",
       "      <td>Apiaká</td>\n",
       "      <td>Brazil</td>\n",
       "      <td>Critically endangered</td>\n",
       "      <td>1</td>\n",
       "      <td>-11.1519</td>\n",
       "      <td>-57.3113</td>\n",
       "    </tr>\n",
       "    <tr>\n",
       "      <th>2263</th>\n",
       "      <td>Bikya</td>\n",
       "      <td>Cameroon</td>\n",
       "      <td>Critically endangered</td>\n",
       "      <td>1</td>\n",
       "      <td>6.8309</td>\n",
       "      <td>10.0277</td>\n",
       "    </tr>\n",
       "    <tr>\n",
       "      <th>2264</th>\n",
       "      <td>Bishuo</td>\n",
       "      <td>Cameroon</td>\n",
       "      <td>Critically endangered</td>\n",
       "      <td>1</td>\n",
       "      <td>6.9032</td>\n",
       "      <td>10.0991</td>\n",
       "    </tr>\n",
       "    <tr>\n",
       "      <th>2265</th>\n",
       "      <td>Chaná</td>\n",
       "      <td>Argentina</td>\n",
       "      <td>Critically endangered</td>\n",
       "      <td>1</td>\n",
       "      <td>-31.8402</td>\n",
       "      <td>-60.5786</td>\n",
       "    </tr>\n",
       "    <tr>\n",
       "      <th>2266</th>\n",
       "      <td>Dampel</td>\n",
       "      <td>Indonesia</td>\n",
       "      <td>Critically endangered</td>\n",
       "      <td>1</td>\n",
       "      <td>0.7923</td>\n",
       "      <td>120.2494</td>\n",
       "    </tr>\n",
       "    <tr>\n",
       "      <th>2267</th>\n",
       "      <td>Diahói</td>\n",
       "      <td>Brazil</td>\n",
       "      <td>Critically endangered</td>\n",
       "      <td>1</td>\n",
       "      <td>-7.9939</td>\n",
       "      <td>-62.1936</td>\n",
       "    </tr>\n",
       "    <tr>\n",
       "      <th>2268</th>\n",
       "      <td>Kaixána</td>\n",
       "      <td>Brazil</td>\n",
       "      <td>Critically endangered</td>\n",
       "      <td>1</td>\n",
       "      <td>-2.0649</td>\n",
       "      <td>-67.4121</td>\n",
       "    </tr>\n",
       "    <tr>\n",
       "      <th>2270</th>\n",
       "      <td>Laua</td>\n",
       "      <td>Papua New Guinea</td>\n",
       "      <td>Critically endangered</td>\n",
       "      <td>1</td>\n",
       "      <td>-10.1824</td>\n",
       "      <td>149.2053</td>\n",
       "    </tr>\n",
       "    <tr>\n",
       "      <th>2271</th>\n",
       "      <td>Patwin</td>\n",
       "      <td>United States of America</td>\n",
       "      <td>Critically endangered</td>\n",
       "      <td>1</td>\n",
       "      <td>38.7608</td>\n",
       "      <td>-122.0354</td>\n",
       "    </tr>\n",
       "    <tr>\n",
       "      <th>2272</th>\n",
       "      <td>Pazeh</td>\n",
       "      <td>China</td>\n",
       "      <td>Critically endangered</td>\n",
       "      <td>1</td>\n",
       "      <td>24.2469</td>\n",
       "      <td>120.7727</td>\n",
       "    </tr>\n",
       "    <tr>\n",
       "      <th>2273</th>\n",
       "      <td>Pémono</td>\n",
       "      <td>Venezuela (Bolivarian Republic of)</td>\n",
       "      <td>Critically endangered</td>\n",
       "      <td>1</td>\n",
       "      <td>5.6487</td>\n",
       "      <td>-65.8081</td>\n",
       "    </tr>\n",
       "    <tr>\n",
       "      <th>2274</th>\n",
       "      <td>Taushiro</td>\n",
       "      <td>Peru</td>\n",
       "      <td>Critically endangered</td>\n",
       "      <td>1</td>\n",
       "      <td>-3.2502</td>\n",
       "      <td>-75.8935</td>\n",
       "    </tr>\n",
       "    <tr>\n",
       "      <th>2275</th>\n",
       "      <td>Tinigua</td>\n",
       "      <td>Colombia</td>\n",
       "      <td>Critically endangered</td>\n",
       "      <td>1</td>\n",
       "      <td>2.3833</td>\n",
       "      <td>-73.6413</td>\n",
       "    </tr>\n",
       "    <tr>\n",
       "      <th>2276</th>\n",
       "      <td>Tolowa</td>\n",
       "      <td>United States of America</td>\n",
       "      <td>Critically endangered</td>\n",
       "      <td>1</td>\n",
       "      <td>41.9566</td>\n",
       "      <td>-124.1915</td>\n",
       "    </tr>\n",
       "    <tr>\n",
       "      <th>2278</th>\n",
       "      <td>Volow</td>\n",
       "      <td>Vanuatu</td>\n",
       "      <td>Critically endangered</td>\n",
       "      <td>1</td>\n",
       "      <td>-13.6433</td>\n",
       "      <td>167.7159</td>\n",
       "    </tr>\n",
       "    <tr>\n",
       "      <th>2279</th>\n",
       "      <td>Wintu-Nomlaki</td>\n",
       "      <td>United States of America</td>\n",
       "      <td>Critically endangered</td>\n",
       "      <td>1</td>\n",
       "      <td>39.8637</td>\n",
       "      <td>-122.0822</td>\n",
       "    </tr>\n",
       "    <tr>\n",
       "      <th>2280</th>\n",
       "      <td>Yahgan</td>\n",
       "      <td>Chile</td>\n",
       "      <td>Critically endangered</td>\n",
       "      <td>1</td>\n",
       "      <td>-55.0028</td>\n",
       "      <td>-67.4615</td>\n",
       "    </tr>\n",
       "    <tr>\n",
       "      <th>2281</th>\n",
       "      <td>Yarawi</td>\n",
       "      <td>Papua New Guinea</td>\n",
       "      <td>Critically endangered</td>\n",
       "      <td>1</td>\n",
       "      <td>-7.9001</td>\n",
       "      <td>147.6411</td>\n",
       "    </tr>\n",
       "  </tbody>\n",
       "</table>\n",
       "</div>"
      ],
      "text/plain": [
       "               name                           countries  \\\n",
       "2262         Apiaká                              Brazil   \n",
       "2263          Bikya                            Cameroon   \n",
       "2264         Bishuo                            Cameroon   \n",
       "2265          Chaná                           Argentina   \n",
       "2266         Dampel                           Indonesia   \n",
       "2267         Diahói                              Brazil   \n",
       "2268        Kaixána                              Brazil   \n",
       "2270           Laua                    Papua New Guinea   \n",
       "2271         Patwin            United States of America   \n",
       "2272          Pazeh                               China   \n",
       "2273         Pémono  Venezuela (Bolivarian Republic of)   \n",
       "2274       Taushiro                                Peru   \n",
       "2275        Tinigua                            Colombia   \n",
       "2276         Tolowa            United States of America   \n",
       "2278          Volow                             Vanuatu   \n",
       "2279  Wintu-Nomlaki            United States of America   \n",
       "2280         Yahgan                               Chile   \n",
       "2281         Yarawi                    Papua New Guinea   \n",
       "\n",
       "                     degree  num_speakers      lat      long  \n",
       "2262  Critically endangered             1 -11.1519  -57.3113  \n",
       "2263  Critically endangered             1   6.8309   10.0277  \n",
       "2264  Critically endangered             1   6.9032   10.0991  \n",
       "2265  Critically endangered             1 -31.8402  -60.5786  \n",
       "2266  Critically endangered             1   0.7923  120.2494  \n",
       "2267  Critically endangered             1  -7.9939  -62.1936  \n",
       "2268  Critically endangered             1  -2.0649  -67.4121  \n",
       "2270  Critically endangered             1 -10.1824  149.2053  \n",
       "2271  Critically endangered             1  38.7608 -122.0354  \n",
       "2272  Critically endangered             1  24.2469  120.7727  \n",
       "2273  Critically endangered             1   5.6487  -65.8081  \n",
       "2274  Critically endangered             1  -3.2502  -75.8935  \n",
       "2275  Critically endangered             1   2.3833  -73.6413  \n",
       "2276  Critically endangered             1  41.9566 -124.1915  \n",
       "2278  Critically endangered             1 -13.6433  167.7159  \n",
       "2279  Critically endangered             1  39.8637 -122.0822  \n",
       "2280  Critically endangered             1 -55.0028  -67.4615  \n",
       "2281  Critically endangered             1  -7.9001  147.6411  "
      ]
     },
     "execution_count": 148,
     "metadata": {},
     "output_type": "execute_result"
    }
   ],
   "source": [
    "df[df.num_speakers==1][df.degree=='Critically endangered']"
   ]
  },
  {
   "cell_type": "code",
   "execution_count": 109,
   "metadata": {
    "collapsed": false
   },
   "outputs": [
    {
     "data": {
      "text/plain": [
       "array(['Vulnerable', 'Definitely endangered', 'Severely endangered',\n",
       "       'Critically endangered', 'Extinct'], dtype=object)"
      ]
     },
     "execution_count": 109,
     "metadata": {},
     "output_type": "execute_result"
    }
   ],
   "source": [
    "df.degree.unique()"
   ]
  },
  {
   "cell_type": "code",
   "execution_count": 71,
   "metadata": {
    "collapsed": false
   },
   "outputs": [
    {
     "data": {
      "text/html": [
       "<iframe id=\"igraph\" scrolling=\"no\" style=\"border:none;\" seamless=\"seamless\" src=\"https://plot.ly/~sagarwal88/334.embed\" height=\"525px\" width=\"100%\"></iframe>"
      ],
      "text/plain": [
       "<plotly.tools.PlotlyDisplay object>"
      ]
     },
     "execution_count": 71,
     "metadata": {},
     "output_type": "execute_result"
    }
   ],
   "source": [
    "traces = []\n",
    "degrees = df.degree.unique()\n",
    "# colors = ['rgba(255, 170, 170, .9)', 'rgba(212, 106, 106, .9)', 'rgba(170, 57, 57, .9)', 'rgba(128, 21, 21, .9)', 'rgba(85, 0, 0, .9)']\n",
    "colors = ['rgb(252,216,99)', 'rgb(252,151,129)', 'rgb(218,99,133)', 'rgb(128,21,21)', 'rgb(176,182,189)']\n",
    "for i, degree in enumerate(degrees):\n",
    "    trc = dict(\n",
    "        type='scattergeo',\n",
    "        lon=df[df.degree==degree].long,\n",
    "        lat=df[df.degree==degree].lat,\n",
    "        text=df[df.degree==degree].name,\n",
    "        marker = dict(\n",
    "            size = 5,\n",
    "            color = colors[i]\n",
    "        ),\n",
    "        name=degree,\n",
    "        mode='markers')\n",
    "    traces.append(trc)\n",
    "layout = Layout(\n",
    "#     autosize=False,\n",
    "#     width=800,\n",
    "#     height=800\n",
    "    geo = dict(\n",
    "            showland = True,\n",
    "            landcolor = \"rgb(250, 250, 250)\",\n",
    "            subunitcolor = \"rgb(217, 217, 217)\",\n",
    "            countrycolor = \"rgb(217, 217, 217)\"\n",
    "        )\n",
    ")\n",
    "fig = Figure(data=traces, layout=layout)\n",
    "py.iplot(fig)"
   ]
  },
  {
   "cell_type": "code",
   "execution_count": 89,
   "metadata": {
    "collapsed": false
   },
   "outputs": [
    {
     "data": {
      "text/html": [
       "<iframe id=\"igraph\" scrolling=\"no\" style=\"border:none;\" seamless=\"seamless\" src=\"https://plot.ly/~sagarwal88/344.embed\" height=\"525px\" width=\"100%\"></iframe>"
      ],
      "text/plain": [
       "<plotly.tools.PlotlyDisplay object>"
      ]
     },
     "execution_count": 89,
     "metadata": {},
     "output_type": "execute_result"
    }
   ],
   "source": [
    "traces = []\n",
    "degrees = df.degree.unique()\n",
    "# colors = ['rgba(255, 170, 170, .9)', 'rgba(212, 106, 106, .9)', 'rgba(170, 57, 57, .9)', 'rgba(128, 21, 21, .9)', 'rgba(85, 0, 0, .9)']\n",
    "colors = ['rgb(252,216,99)', 'rgb(252,151,129)', 'rgb(218,99,133)', 'rgb(128,21,21)', 'rgb(176,182,189)']\n",
    "for i, degree in enumerate(degrees):\n",
    "    trc = dict(\n",
    "        type='scattergeo',\n",
    "        lon=df[df.degree==degree].long,\n",
    "        lat=df[df.degree==degree].lat,\n",
    "        text=df[df.degree==degree].name,\n",
    "        marker = dict(\n",
    "            size = 5,\n",
    "            color = colors[i]\n",
    "        ),\n",
    "        name=degree,\n",
    "        mode='markers')\n",
    "    traces.append(trc)\n",
    "layout = Layout(\n",
    "#     autosize=False,\n",
    "#     width=800,\n",
    "#     height=800\n",
    "    geo = dict(\n",
    "            scope='usa',\n",
    "            showland = True,\n",
    "            landcolor = \"rgb(250, 250, 250)\",\n",
    "            subunitcolor = \"rgb(217, 217, 217)\",\n",
    "            countrycolor = \"rgb(217, 217, 217)\"\n",
    "        )\n",
    ")\n",
    "fig = Figure(data=traces, layout=layout)\n",
    "py.iplot(fig)"
   ]
  },
  {
   "cell_type": "code",
   "execution_count": 205,
   "metadata": {
    "collapsed": false
   },
   "outputs": [
    {
     "name": "stderr",
     "output_type": "stream",
     "text": [
      "/usr/lib/python3/dist-packages/pandas/core/frame.py:1997: UserWarning:\n",
      "\n",
      "Boolean Series key will be reindexed to match DataFrame index.\n",
      "\n"
     ]
    }
   ],
   "source": [
    "ce_name = df[df.num_speakers==1][df.degree=='Critically endangered'].name.tolist()\n",
    "ce_countries = df[df.num_speakers==1][df.degree=='Critically endangered'].countries.tolist()\n",
    "ce_text = []\n",
    "for i in range(len(ce_name)):\n",
    "    if ce_countries[i] == 'Papua New Guinea':\n",
    "        ce_countries[i] = 'PNG'\n",
    "    elif ce_countries[i] == 'United States of America':\n",
    "        ce_countries[i] = 'USA'\n",
    "    elif ce_countries[i] == 'Venezuela (Bolivarian Republic of)':\n",
    "        ce_countries[i] = 'Venezuela'\n",
    "    ce_text.append(ce_name[i]+'<br>'+'<b>'+ce_countries[i]+'</b>')"
   ]
  },
  {
   "cell_type": "code",
   "execution_count": 215,
   "metadata": {
    "collapsed": false
   },
   "outputs": [
    {
     "data": {
      "text/plain": [
       "['Yarawi<br><b>PNG</b>',\n",
       " 'Yahgan<br><b>Chile</b>',\n",
       " 'Wintu-Nomlaki<br><b>USA</b>',\n",
       " 'Volow<br><b>Vanuatu</b>',\n",
       " 'Tolowa<br><b>USA</b>',\n",
       " 'Tinigua<br><b>Colombia</b>',\n",
       " 'Taushiro<br><b>Peru</b>',\n",
       " 'Pémono<br><b>Venezuela</b>',\n",
       " 'Pazeh<br><b>China</b>',\n",
       " 'Patwin<br><b>USA</b>',\n",
       " 'Laua<br><b>PNG</b>',\n",
       " 'Kaixána<br><b>Brazil</b>',\n",
       " 'Diahói<br><b>Brazil</b>',\n",
       " 'Dampel<br><b>Indonesia</b>',\n",
       " 'Chaná<br><b>Argentina</b>',\n",
       " 'Bishuo<br><b>Cameroon</b>',\n",
       " 'Bikya<br><b>Cameroon</b>',\n",
       " 'Apiaká<br><b>Brazil</b>']"
      ]
     },
     "execution_count": 215,
     "metadata": {},
     "output_type": "execute_result"
    }
   ],
   "source": [
    "ce_text"
   ]
  },
  {
   "cell_type": "code",
   "execution_count": 218,
   "metadata": {
    "collapsed": false
   },
   "outputs": [
    {
     "data": {
      "text/plain": [
       "['Taushiro<br><b>Peru</b>',\n",
       " 'Tinigua<br><b>Colombia</b>',\n",
       " 'Tolowa<br><b>USA</b>',\n",
       " 'Volow<br><b>Vanuatu</b>',\n",
       " 'Wintu-Nomlaki<br><b>USA</b>',\n",
       " 'Yahgan<br><b>Chile</b>',\n",
       " 'Yarawi<br><b>PNG</b>']"
      ]
     },
     "execution_count": 218,
     "metadata": {},
     "output_type": "execute_result"
    }
   ],
   "source": [
    "ce_text"
   ]
  },
  {
   "cell_type": "code",
   "execution_count": 221,
   "metadata": {
    "collapsed": false
   },
   "outputs": [
    {
     "data": {
      "text/plain": [
       "['Kaixána<br><b>Brazil</b>',\n",
       " 'Laua<br><b>PNG</b>',\n",
       " 'Patwin<br><b>USA</b>',\n",
       " 'Pazeh<br><b>China</b>',\n",
       " 'Pémono<br><b>Venezuela</b>']"
      ]
     },
     "execution_count": 221,
     "metadata": {},
     "output_type": "execute_result"
    }
   ],
   "source": [
    "arr"
   ]
  },
  {
   "cell_type": "code",
   "execution_count": 224,
   "metadata": {
    "collapsed": false
   },
   "outputs": [
    {
     "data": {
      "text/plain": [
       "['Apiaká<br><b>Brazil</b>',\n",
       " 'Bikya<br><b>Cameroon</b>',\n",
       " 'Bishuo<br><b>Cameroon</b>',\n",
       " 'Chaná<br><b>Argentina</b>',\n",
       " 'Dampel<br><b>Indonesia</b>',\n",
       " 'Diahói<br><b>Brazil</b>']"
      ]
     },
     "execution_count": 224,
     "metadata": {},
     "output_type": "execute_result"
    }
   ],
   "source": [
    "arr2"
   ]
  },
  {
   "cell_type": "code",
   "execution_count": 225,
   "metadata": {
    "collapsed": true
   },
   "outputs": [],
   "source": [
    "ce_text = [ 'Tinigua<br><b>Colombia</b>',\n",
    " 'Tolowa<br><b>USA</b>',\n",
    " 'Volow<br><b>Vanuatu</b>',\n",
    " 'Wintu-Nomlaki<br><b>USA</b>',\n",
    " 'Yahgan<br><b>Chile</b>',\n",
    " 'Yarawi<br><b>PNG</b>','Taushiro<br><b>Peru</b>','Kaixána<br><b>Brazil</b>',\n",
    " 'Laua<br><b>PNG</b>',\n",
    " 'Patwin<br><b>USA</b>',\n",
    " 'Pazeh<br><b>China</b>',\n",
    " 'Pémono<br><b>Venezuela</b>','Apiaká<br><b>Brazil</b>',\n",
    " 'Bikya<br><b>Cameroon</b>',\n",
    " 'Bishuo<br><b>Cameroon</b>',\n",
    " 'Chaná<br><b>Argentina</b>',\n",
    " 'Dampel<br><b>Indonesia</b>',\n",
    " 'Diahói<br><b>Brazil</b>']"
   ]
  },
  {
   "cell_type": "code",
   "execution_count": 226,
   "metadata": {
    "collapsed": false
   },
   "outputs": [
    {
     "data": {
      "text/html": [
       "<iframe id=\"igraph\" scrolling=\"no\" style=\"border:none;\" seamless=\"seamless\" src=\"https://plot.ly/~sagarwal88/484.embed\" height=\"500px\" width=\"800px\"></iframe>"
      ],
      "text/plain": [
       "<plotly.tools.PlotlyDisplay object>"
      ]
     },
     "execution_count": 226,
     "metadata": {},
     "output_type": "execute_result"
    }
   ],
   "source": [
    "trace0 = Scatter(\n",
    "    x=[0.6, 1.6, 2.6, 3.6, 4.6, 5.6, 0.6, 1.6, 2.6, 3.6, 4.6, 5.6, 0.6, 1.6, 2.6, 3.6, 4.6, 5.6],\n",
    "    y=[4.4, 4.4, 4.4, 4.4, 4.4, 4.4, 5.4, 5.4, 5.4, 5.4, 5.4, 5.4, 6.4, 6.4, 6.4, 6.4, 6.4, 6.4],\n",
    "    text=ce_text,\n",
    "    mode='text',\n",
    ")\n",
    "data = [trace0]\n",
    "\n",
    "fill_color = 'rgba(176,182,189, 0.6)'\n",
    "line_color = 'rgba(176,182,189, 1.0)'\n",
    "layout = {\n",
    "   'xaxis': {\n",
    "        'showticklabels': False,\n",
    "        'autotick': False,\n",
    "        'showgrid': False,\n",
    "        'zeroline': False,\n",
    "    },\n",
    "    'yaxis': {\n",
    "        'showticklabels': False,\n",
    "        'autotick': False,\n",
    "        'showgrid': False,\n",
    "        'zeroline': False,\n",
    "    },\n",
    "    'width': 800,\n",
    "    'height': 500,\n",
    "    'shapes': [\n",
    "        # filled circle\n",
    "        {\n",
    "            'opacity': 0.3,\n",
    "            'type': 'circle',\n",
    "            'xref': 'x',\n",
    "            'yref': 'y',\n",
    "            'fillcolor': fill_color,\n",
    "            'x0': 0.2,\n",
    "            'y0': 4,\n",
    "            'x1': 1.0,\n",
    "            'y1': 4.8,\n",
    "            'line': {\n",
    "                'color': line_color,\n",
    "            }\n",
    "        },\n",
    "        {\n",
    "            'opacity': 0.3,\n",
    "            'type': 'circle',\n",
    "            'xref': 'x',\n",
    "            'yref': 'y',\n",
    "            'fillcolor': fill_color,\n",
    "            'x0': 1.2,\n",
    "            'y0': 4,\n",
    "            'x1': 2.0,\n",
    "            'y1': 4.8,\n",
    "            'line': {\n",
    "                'color': line_color,\n",
    "            }\n",
    "        },\n",
    "        {\n",
    "            'opacity': 0.3,\n",
    "            'type': 'circle',\n",
    "            'xref': 'x',\n",
    "            'yref': 'y',\n",
    "            'fillcolor': fill_color,\n",
    "            'x0': 2.2,\n",
    "            'y0': 4,\n",
    "            'x1': 3.0,\n",
    "            'y1': 4.8,\n",
    "            'line': {\n",
    "                'color': line_color,\n",
    "            }\n",
    "        },\n",
    "        {\n",
    "            'opacity': 0.3,\n",
    "            'type': 'circle',\n",
    "            'xref': 'x',\n",
    "            'yref': 'y',\n",
    "            'fillcolor': fill_color,\n",
    "            'x0': 3.2,\n",
    "            'y0': 4,\n",
    "            'x1': 4.0,\n",
    "            'y1': 4.8,\n",
    "            'line': {\n",
    "                'color': line_color,\n",
    "            }\n",
    "        },\n",
    "        {\n",
    "            'opacity': 0.3,\n",
    "            'type': 'circle',\n",
    "            'xref': 'x',\n",
    "            'yref': 'y',\n",
    "            'fillcolor': fill_color,\n",
    "            'x0': 4.2,\n",
    "            'y0': 4,\n",
    "            'x1': 5.0,\n",
    "            'y1': 4.8,\n",
    "            'line': {\n",
    "                'color': line_color,\n",
    "            }\n",
    "        },\n",
    "        {\n",
    "            'opacity': 0.3,\n",
    "            'type': 'circle',\n",
    "            'xref': 'x',\n",
    "            'yref': 'y',\n",
    "            'fillcolor': fill_color,\n",
    "            'x0': 5.2,\n",
    "            'y0': 4,\n",
    "            'x1': 6.0,\n",
    "            'y1': 4.8,\n",
    "            'line': {\n",
    "                'color': line_color,\n",
    "            }\n",
    "        },\n",
    "         {\n",
    "            'opacity': 0.3,\n",
    "            'type': 'circle',\n",
    "            'xref': 'x',\n",
    "            'yref': 'y',\n",
    "            'fillcolor': fill_color,\n",
    "            'x0': 0.2,\n",
    "            'y0': 5,\n",
    "            'x1': 1.0,\n",
    "            'y1': 5.8,\n",
    "            'line': {\n",
    "                'color': line_color,\n",
    "            }\n",
    "        },\n",
    "        {\n",
    "            'opacity': 0.3,\n",
    "            'type': 'circle',\n",
    "            'xref': 'x',\n",
    "            'yref': 'y',\n",
    "            'fillcolor': fill_color,\n",
    "            'x0': 1.2,\n",
    "            'y0': 5,\n",
    "            'x1': 2.0,\n",
    "            'y1': 5.8,\n",
    "            'line': {\n",
    "                'color': line_color,\n",
    "            }\n",
    "        },\n",
    "        {\n",
    "            'opacity': 0.3,\n",
    "            'type': 'circle',\n",
    "            'xref': 'x',\n",
    "            'yref': 'y',\n",
    "            'fillcolor': fill_color,\n",
    "            'x0': 2.2,\n",
    "            'y0': 5,\n",
    "            'x1': 3.0,\n",
    "            'y1': 5.8,\n",
    "            'line': {\n",
    "                'color': line_color,\n",
    "            }\n",
    "        },\n",
    "        {\n",
    "            'opacity': 0.3,\n",
    "            'type': 'circle',\n",
    "            'xref': 'x',\n",
    "            'yref': 'y',\n",
    "            'fillcolor': fill_color,\n",
    "            'x0': 3.2,\n",
    "            'y0': 5,\n",
    "            'x1': 4.0,\n",
    "            'y1': 5.8,\n",
    "            'line': {\n",
    "                'color': line_color,\n",
    "            }\n",
    "        },\n",
    "        {\n",
    "            'opacity': 0.3,\n",
    "            'type': 'circle',\n",
    "            'xref': 'x',\n",
    "            'yref': 'y',\n",
    "            'fillcolor': fill_color,\n",
    "            'x0': 4.2,\n",
    "            'y0': 5,\n",
    "            'x1': 5.0,\n",
    "            'y1': 5.8,\n",
    "            'line': {\n",
    "                'color': line_color,\n",
    "            }\n",
    "        },\n",
    "        {\n",
    "            'opacity': 0.3,\n",
    "            'type': 'circle',\n",
    "            'xref': 'x',\n",
    "            'yref': 'y',\n",
    "            'fillcolor': fill_color,\n",
    "            'x0': 5.2,\n",
    "            'y0': 5,\n",
    "            'x1': 6.0,\n",
    "            'y1': 5.8,\n",
    "            'line': {\n",
    "                'color': line_color,\n",
    "            }\n",
    "        },\n",
    "         {\n",
    "            'opacity': 0.3,\n",
    "            'type': 'circle',\n",
    "            'xref': 'x',\n",
    "            'yref': 'y',\n",
    "            'fillcolor': fill_color,\n",
    "            'x0': 0.2,\n",
    "            'y0': 6,\n",
    "            'x1': 1.0,\n",
    "            'y1': 6.8,\n",
    "            'line': {\n",
    "                'color': line_color,\n",
    "            }\n",
    "        },\n",
    "        {\n",
    "            'opacity': 0.3,\n",
    "            'type': 'circle',\n",
    "            'xref': 'x',\n",
    "            'yref': 'y',\n",
    "            'fillcolor': fill_color,\n",
    "            'x0': 1.2,\n",
    "            'y0': 6,\n",
    "            'x1': 2.0,\n",
    "            'y1': 6.8,\n",
    "            'line': {\n",
    "                'color': line_color,\n",
    "            }\n",
    "        },\n",
    "        {\n",
    "            'opacity': 0.3,\n",
    "            'type': 'circle',\n",
    "            'xref': 'x',\n",
    "            'yref': 'y',\n",
    "            'fillcolor': fill_color,\n",
    "            'x0': 2.2,\n",
    "            'y0': 6,\n",
    "            'x1': 3.0,\n",
    "            'y1': 6.8,\n",
    "            'line': {\n",
    "                'color': line_color,\n",
    "            }\n",
    "        },\n",
    "        {\n",
    "            'opacity': 0.3,\n",
    "            'type': 'circle',\n",
    "            'xref': 'x',\n",
    "            'yref': 'y',\n",
    "            'fillcolor': fill_color,\n",
    "            'x0': 3.2,\n",
    "            'y0': 6,\n",
    "            'x1': 4.0,\n",
    "            'y1': 6.8,\n",
    "            'line': {\n",
    "                'color': line_color,\n",
    "            }\n",
    "        },\n",
    "        {\n",
    "            'opacity': 0.3,\n",
    "            'type': 'circle',\n",
    "            'xref': 'x',\n",
    "            'yref': 'y',\n",
    "            'fillcolor': fill_color,\n",
    "            'x0': 4.2,\n",
    "            'y0': 6,\n",
    "            'x1': 5.0,\n",
    "            'y1': 6.8,\n",
    "            'line': {\n",
    "                'color': line_color,\n",
    "            }\n",
    "        },\n",
    "        {\n",
    "            'opacity': 0.3,\n",
    "            'type': 'circle',\n",
    "            'xref': 'x',\n",
    "            'yref': 'y',\n",
    "            'fillcolor': fill_color,\n",
    "            'x0': 5.2,\n",
    "            'y0': 6,\n",
    "            'x1': 6.0,\n",
    "            'y1': 6.8,\n",
    "            'line': {\n",
    "                'color': line_color,\n",
    "            }\n",
    "        },\n",
    "    ]\n",
    "}\n",
    "fig = {\n",
    "    'data': data,\n",
    "    'layout': layout,\n",
    "}\n",
    "py.iplot(fig)"
   ]
  },
  {
   "cell_type": "code",
   "execution_count": null,
   "metadata": {
    "collapsed": true
   },
   "outputs": [],
   "source": []
  }
 ],
 "metadata": {
  "kernelspec": {
   "display_name": "Python 3",
   "language": "python",
   "name": "python3"
  },
  "language_info": {
   "codemirror_mode": {
    "name": "ipython",
    "version": 3
   },
   "file_extension": ".py",
   "mimetype": "text/x-python",
   "name": "python",
   "nbconvert_exporter": "python",
   "pygments_lexer": "ipython3",
   "version": "3.5.2"
  }
 },
 "nbformat": 4,
 "nbformat_minor": 1
}
